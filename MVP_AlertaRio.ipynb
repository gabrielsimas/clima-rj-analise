{
  "nbformat": 4,
  "nbformat_minor": 0,
  "metadata": {
    "colab": {
      "provenance": [],
      "collapsed_sections": [
        "htM4gfAKa45U",
        "ECQ5HDNN261U",
        "nIfKrlqffAGp",
        "QQIe4NKVfFP_",
        "j3AYgti4fO6z"
      ]
    },
    "kernelspec": {
      "name": "python3",
      "display_name": "Python 3"
    },
    "language_info": {
      "name": "python"
    }
  },
  "cells": [
    {
      "cell_type": "markdown",
      "source": [
        "<center>\n",
        "\n",
        "# ***MVP Análise de Dados e Boas Práticas - Aquecimento Global, uma abordagem prática através dos Olhos do AlertaRio***\n",
        "\n",
        "![Logo AlertaRio](https://www.sistema-alerta-rio.com.br/wp-content/uploads/2025/01/GeoRio__Alerta_branco_3.png)\n",
        "\n",
        "</center>\n",
        "\n",
        "**Nome:** Luís Gabriel Nascimento Simas\n",
        "\n",
        "**Matrícula:** 4052025000943"
      ],
      "metadata": {
        "id": "7WA2Z-lsBM5z"
      }
    },
    {
      "cell_type": "markdown",
      "source": [
        "# **Definição do Problema**"
      ],
      "metadata": {
        "id": "-_eG8z6Kd6E1"
      }
    },
    {
      "cell_type": "markdown",
      "source": [
        "## **O que é o AlertaRio e quais dados são monitorados?**\n",
        "\n",
        "O Sistema AlertaRio conta com *33* estações de monitoramento pluviométrico de última geração.\n",
        "\n",
        "Faz medições por dia e hora: ***5 min*** (Após 2023), ***10 min*** (Após 2023), ***15 min***, ***1 h***, ***4 h***, ***24h***, ***96h***, ***Acumulado no Mês***.\n",
        "\n",
        "8 estações possuem sensores extras (anemômetro, barômetro, termômetro, umidade): **Vidigal**, **Irajá**, **Jardim Botânico**, **Barra/RioCentro**, **Guaratiba**, **Santa Cruz**, **Alto da Boa Vista**, **São Cristóvão**\n",
        "\n",
        "Essas **Estações meteorológicas** coletam: direção do vento (graus), velocidade do vento (km/h), temperatura (°C), pressão atmosférica (hPa), umidade relativa (%), a cada 15 minutos, algumas começaram a operar em Janeiro de 1997."
      ],
      "metadata": {
        "id": "525PevdQDETC"
      }
    },
    {
      "cell_type": "markdown",
      "source": [
        "## **Descrição do Problema**\n",
        "\n",
        "### O *Aquecimento Global* - *Global Warming* - é uma realidade e vem sendo notado desde o final da década de 60 do século XX.\n",
        "### Tamanho acontecimento gera muito debate! Por um lado, alguns geólogos e meteorologistas dizem que isso é um ciclo natural que ocorre de tempos em tempos.Já para outros, é uma resposta da natureza do nosso planeta Terra mediante alterações que estamos fazendo - principalmente com adição em massa de sprays na atmosfera causando o Efeito Estufa. Essas alterações climáticas geradas pelo homem causaram um batismo em nossa era que agora é chamada de **Antropoceno**.\n",
        "### O aquecimento e o resfriamento das águas do Oceano Pacífico que fica às nossas costas, banhando a Cordilheira dos Andes, nos têm causado problemas e causado alterações no mapa climático do Brasil e, consequentemente, na Cidade do Rio de Janeiro.\n",
        "### Por mais estranho que isso possa parecer, esse macroclima nos têm afetado completamente em nosso microclima.\n",
        "### Temos sofrido muito com altos índices pluviométricos, Ciclones extra-tropicais no Sul do País, altas amplitudes térmicas, ventos cada vez mais fortes, secas extremas, ondas de calor no Verão e nas Estações de Transição como Outono e Primavera, que levam o nome de \"Veranico\", ou Ondas de Frio que têm ocorrido em um Inverno, que outrora era extremamente sêco e agora temos visto uma certa umidade o que aumenta os problemas respiratórios em todas as faixas etárias dando ênfase à crianças e à idosos os mais vulneráveis.\n",
        "### Entender como o clima está mudando não é uma questão de capricho apenas ou de espectro político ou ideologia política.\n",
        "### Negar que o clima está se alterando por vários motivos é negar a realidade e a tendência é que ele fique cada vez mais extremo.\n",
        "### Neste pequeno projeto, não temos o intuito de mitigar o problema do aquecimento global ou comprovar ou não a sua existência, mas sim que ele está mudando o clima do Rio de Janeiro ele está às nossas portas dentro de nossas casas ou levando nossa casa ou a nossa porta à força.\n",
        "### Precisamos observar e agir usando os dados à nossa disposição para gerar um verdadeiro raio-x do problema, seja pluviomético seja meteorológico, que estamos enfrentando e como políticas públicas, de posse dessas informações, podem ser melhor utilizadas para mitigar tais problemas em áreas mais vulneráveis da cidade."
      ],
      "metadata": {
        "id": "YWZuqZqYBiy1"
      }
    },
    {
      "cell_type": "markdown",
      "source": [
        "### Diante de nossa apresentação, os problemas, ou as perguntas, que esse pequeno projeto vai responder são:\n",
        "\n",
        "### 1. *Quais as temperaturas máximas e minimas, e sua variação ao longo do tempo, por mês e ano de 1997 até 2024?*\n",
        "\n",
        "### 2. *Quais as temperaturas máximas e minimas por estações do ano de 1997 até 2024?*\n",
        "\n",
        "### 3. *Quais as maiores velocidades do vento por estação do ano de 1997 até 2024?*\n",
        "\n",
        "### 4. *Quais as médias de temperatura por ano e mês de 1997 até 2024 mostrar essa variação ao longo do tempo.*\n",
        "\n",
        "### 4. *Qual foi o maior volume de Chuva de 1997 até 2024?*\n",
        "\n",
        "### 5. *Qual a distribuição das Chuvas por mês e ano entre 1997 até 2024?*\n",
        "\n",
        "### 6. *Quando mais choveu por mês e ano entre 1997 até 2024?*\n",
        "\n",
        "### 7. *Qual a correlação entre a Pressão Atmosférica, Velocidade dos ventos com alta pluviometria por estação do Ano de 1997 até 2024?*\n",
        "\n",
        "### 8. *Como está a distribuição de Temperaturas por estação do ano no período de 1997 até 2024?*\n",
        "\n",
        "### 9. *Como está a distribuição de Chuvas por estação do ano captadas no período de 1997 até 2024?*\n",
        "\n",
        "### 10. *Qual a relação entre dias chuvosos e dias secos por estão do ano captadas no período de 1997 até 2024?*\n",
        "\n",
        "### 11. *Qual a correlação do El Niño com as temperaturas captadas nos 12 meses no período de 1997 até 2024?*\n",
        "\n",
        "### 12. *Qual a correlação do El Niño com o acumulado pluviométrico captados nos 12 meses no período de 1997 até 2024?*\n",
        "\n",
        "### 13. *Qual a correlação da La Niña com as temperaturas captadas nos 12 meses no período de 1997 até 2024?*\n",
        "\n",
        "### 14. *Qual a correlação do La Niña com o acumulado pluviométrico captados nos 12 meses no período de 1997 até 2024?*\n",
        "\n",
        "### 15. *Qual a correlação do El Niño com os eventos extremos identificados entre 1997 e 2024?*\n",
        "\n",
        "### 16. *Qual a correlação da La Niña com os eventos extremos identificados entre 1997 e 2024?*"
      ],
      "metadata": {
        "id": "q8LnVdp75YE0"
      }
    },
    {
      "cell_type": "markdown",
      "source": [
        "### Podemos classificar as perguntas que queremos responder dentro dos problemas resolvidos pela Ciência de Dados como segue:\n",
        "\n",
        "### 1. *Quais as temperaturas máximas e mínimas por mês e ano de 1997 até 2024?*  \n",
        "#### **Problemas de Ciência de Dados:** Regressão, Agrupamento, Seleção  \n",
        "#### **Variáveis:** Temperatura máxima, Temperatura mínima, Ano, Mês, Média  \n",
        "\n",
        "---\n",
        "\n",
        "### 2. *Quais as temperaturas máximas e mínimas por estações do ano de 1997 até 2024?*  \n",
        "#### **Problemas de Ciência de Dados:** Regressão, Agrupamento  \n",
        "#### **Variáveis:** Temperatura máxima, Temperatura mínima, Estação do ano  \n",
        "\n",
        "---\n",
        "\n",
        "### 3. *Quais as maiores velocidades do vento por estação do ano de 1997 até 2024?*  \n",
        "#### **Problemas de Ciência de Dados:** Regressão, Agrupamento  \n",
        "#### **Variáveis:** Velocidade do vento, Estação do ano  \n",
        "\n",
        "---\n",
        "\n",
        "### 4. *Quais as médias de temperatura por ano e mês de 1997 até 2024 mostrando essa variação ao longo do tempo?*  \n",
        "#### **Problemas de Ciência de Dados:** Regressão, Agrupamento  \n",
        "#### **Variáveis:** Temperatura média, Ano, Mês  \n",
        "\n",
        "---\n",
        "\n",
        "### 5. *Qual foi o maior volume de chuva de 1997 até 2024?*  \n",
        "#### **Problemas de Ciência de Dados:** Regressão, Seleção  \n",
        "#### **Variáveis:** Volume de chuva, Ano  \n",
        "\n",
        "---\n",
        "\n",
        "### 6. *Qual a distribuição das chuvas por mês e ano entre 1997 até 2024?*  \n",
        "#### **Problemas de Ciência de Dados:** Agrupamento, Seleção  \n",
        "#### **Variáveis:** Volume de chuva, Ano, Mês  \n",
        "\n",
        "---\n",
        "\n",
        "### 7. *Quando mais choveu por mês e ano entre 1997 até 2024?*  \n",
        "#### **Problemas de Ciência de Dados:** Agrupamento, Seleção  \n",
        "#### **Variáveis:** Volume de chuva, Ano, Mês  \n",
        "\n",
        "---\n",
        "\n",
        "### 8. *Qual a correlação entre a pressão atmosférica, velocidade dos ventos com alta pluviometria por estação do ano de 1997 até 2024?*  \n",
        "#### **Problemas de Ciência de Dados:** Regressão, Correlação, Agrupamento  \n",
        "#### **Variáveis:** Pressão atmosférica, Velocidade do vento, Volume de chuva, Estação do ano  \n",
        "\n",
        "---\n",
        "\n",
        "### 9. *Como está a distribuição de temperaturas por estação do ano no período de 1997 até 2024?*  \n",
        "#### **Problemas de Ciência de Dados:** Agrupamento, Seleção  \n",
        "#### **Variáveis:** Temperatura, Estação do ano  \n",
        "\n",
        "---\n",
        "\n",
        "### 10. *Como está a distribuição de chuvas por estação do ano captadas no período de 1997 até 2024?*  \n",
        "#### **Problemas de Ciência de Dados:** Agrupamento, Seleção  \n",
        "#### **Variáveis:** Volume de chuva, Estação do ano  \n",
        "\n",
        "---\n",
        "\n",
        "### 11. *Qual a relação entre dias chuvosos e dias secos por estação do ano captadas no período de 1997 até 2024?*  \n",
        "#### **Problemas de Ciência de Dados:** Classificação, Agrupamento  \n",
        "#### **Variáveis:** Dias chuvosos, Dias secos, Estação do ano  \n",
        "\n",
        "---\n",
        "\n",
        "### 12. *Qual a correlação do El Niño com as temperaturas captadas nos 12 meses no período de 1997 até 2024?*  \n",
        "#### **Problemas de Ciência de Dados:** Regressão, Correlação, Agrupamento  \n",
        "#### **Variáveis:** El Niño, Temperatura, Mês  \n",
        "\n",
        "---\n",
        "\n",
        "### 13. *Qual a correlação do El Niño com o acumulado pluviométrico captado nos 12 meses no período de 1997 até 2024?*  \n",
        "#### **Problemas de Ciência de Dados:** Regressão, Correlação, Agrupamento  \n",
        "#### **Variáveis:** El Niño, Volume de chuva, Mês  \n",
        "\n",
        "---\n",
        "\n",
        "### 14. *Qual a correlação da La Niña com as temperaturas captadas nos 12 meses no período de 1997 até 2024?*  \n",
        "#### **Problemas de Ciência de Dados:** Regressão, Correlação, Agrupamento  \n",
        "#### **Variáveis:** La Niña, Temperatura, Mês  \n",
        "\n",
        "---\n",
        "\n",
        "### 15. Qual a correlação do La Niña com o acumulado pluviométrico captado nos 12 meses no período de 1997 até 2024?  \n",
        "**Problemas de Ciência de Dados:** Regressão, Correlação, Agrupamento  \n",
        "**Variáveis:** La Niña, Volume de chuva, Mês  \n",
        "\n",
        "---\n",
        "\n",
        "### 16. Qual a correlação do El Niño com os eventos extremos identificados entre 1997 e 2024?  \n",
        "**Problemas de Ciência de Dados:** Classificação, Regressão, Correlação, Seleção  \n",
        "**Variáveis:** El Niño, Eventos extremos, Ano  \n",
        "\n",
        "---\n",
        "\n",
        "### 17. Qual a correlação da La Niña com os eventos extremos identificados entre 1997 e 2024?  \n",
        "**Problemas de Ciência de Dados:** Classificação, Regressão, Correlação, Seleção  \n",
        "**Variáveis:** La Niña, Eventos extremos, Ano"
      ],
      "metadata": {
        "id": "tZ3o0A6Sfoz2"
      }
    },
    {
      "cell_type": "markdown",
      "source": [
        "# **Coleta e análise de dados**"
      ],
      "metadata": {
        "id": "ChuCpjyhe4z7"
      }
    },
    {
      "cell_type": "markdown",
      "source": [
        "## Coleta de Dados\n",
        "\n",
        "### A coleta de dados será feita, em parte, para os dados meteorológicos e Pluviométricos diretamente do site do alerta rio via web scraping\n",
        "\n",
        "- **Meteorológico**: https://websempre.rio.rj.gov.br/dados/pluviometricos/met/\n",
        "- **Pluviométrico**: https://websempre.rio.rj.gov.br/dados/pluviometricos/met/\n",
        "\n",
        "### Para referências sobre categorização de índices pluviométricos e meterológicos, temos como referência também o site do AlertaRio.\n",
        "\n",
        "- **Referências**: https://www.sistema-alerta-rio.com.br/previsao-do-tempo/termosmet/"
      ],
      "metadata": {
        "id": "o2WArOFca6Lh"
      }
    },
    {
      "cell_type": "markdown",
      "source": [
        "#### Para o webscraping vamos utilizar o `Playwright`\n",
        "#### Para Logging, utilizamos o pacote `logging`"
      ],
      "metadata": {
        "id": "VJsM4h82-TAC"
      }
    },
    {
      "cell_type": "markdown",
      "source": [
        "### **Instalando os pacotes para o webscraping**"
      ],
      "metadata": {
        "id": "IOSRDrS_-KFw"
      }
    },
    {
      "cell_type": "code",
      "source": [
        "!pip install playwright\n",
        "!playwright install chromium"
      ],
      "metadata": {
        "colab": {
          "base_uri": "https://localhost:8080/"
        },
        "id": "aRSqt-sF9-So",
        "outputId": "1db37b5c-9d81-44ba-d5ab-6e912ba2afee"
      },
      "execution_count": 1,
      "outputs": [
        {
          "output_type": "stream",
          "name": "stdout",
          "text": [
            "Collecting playwright\n",
            "  Downloading playwright-1.53.0-py3-none-manylinux1_x86_64.whl.metadata (3.5 kB)\n",
            "Collecting pyee<14,>=13 (from playwright)\n",
            "  Downloading pyee-13.0.0-py3-none-any.whl.metadata (2.9 kB)\n",
            "Requirement already satisfied: greenlet<4.0.0,>=3.1.1 in /usr/local/lib/python3.11/dist-packages (from playwright) (3.2.3)\n",
            "Requirement already satisfied: typing-extensions in /usr/local/lib/python3.11/dist-packages (from pyee<14,>=13->playwright) (4.14.0)\n",
            "Downloading playwright-1.53.0-py3-none-manylinux1_x86_64.whl (45.8 MB)\n",
            "\u001b[2K   \u001b[90m━━━━━━━━━━━━━━━━━━━━━━━━━━━━━━━━━━━━━━━━\u001b[0m \u001b[32m45.8/45.8 MB\u001b[0m \u001b[31m22.6 MB/s\u001b[0m eta \u001b[36m0:00:00\u001b[0m\n",
            "\u001b[?25hDownloading pyee-13.0.0-py3-none-any.whl (15 kB)\n",
            "Installing collected packages: pyee, playwright\n",
            "Successfully installed playwright-1.53.0 pyee-13.0.0\n",
            "Downloading Chromium 138.0.7204.23 (playwright build v1179)\u001b[2m from https://cdn.playwright.dev/dbazure/download/playwright/builds/chromium/1179/chromium-linux.zip\u001b[22m\n",
            "\u001b[1G171.6 MiB [] 0% 0.0s\u001b[0K\u001b[1G171.6 MiB [] 0% 11.1s\u001b[0K\u001b[1G171.6 MiB [] 0% 5.3s\u001b[0K\u001b[1G171.6 MiB [] 1% 3.5s\u001b[0K\u001b[1G171.6 MiB [] 2% 2.9s\u001b[0K\u001b[1G171.6 MiB [] 3% 2.4s\u001b[0K\u001b[1G171.6 MiB [] 4% 2.2s\u001b[0K\u001b[1G171.6 MiB [] 5% 2.1s\u001b[0K\u001b[1G171.6 MiB [] 5% 2.2s\u001b[0K\u001b[1G171.6 MiB [] 6% 2.2s\u001b[0K\u001b[1G171.6 MiB [] 7% 2.1s\u001b[0K\u001b[1G171.6 MiB [] 8% 2.1s\u001b[0K\u001b[1G171.6 MiB [] 8% 2.2s\u001b[0K\u001b[1G171.6 MiB [] 9% 2.2s\u001b[0K\u001b[1G171.6 MiB [] 11% 2.1s\u001b[0K\u001b[1G171.6 MiB [] 12% 2.0s\u001b[0K\u001b[1G171.6 MiB [] 13% 2.0s\u001b[0K\u001b[1G171.6 MiB [] 14% 1.9s\u001b[0K\u001b[1G171.6 MiB [] 15% 1.9s\u001b[0K\u001b[1G171.6 MiB [] 16% 1.8s\u001b[0K\u001b[1G171.6 MiB [] 17% 1.7s\u001b[0K\u001b[1G171.6 MiB [] 18% 1.6s\u001b[0K\u001b[1G171.6 MiB [] 19% 1.6s\u001b[0K\u001b[1G171.6 MiB [] 21% 1.5s\u001b[0K\u001b[1G171.6 MiB [] 23% 1.5s\u001b[0K\u001b[1G171.6 MiB [] 24% 1.4s\u001b[0K\u001b[1G171.6 MiB [] 25% 1.4s\u001b[0K\u001b[1G171.6 MiB [] 26% 1.4s\u001b[0K\u001b[1G171.6 MiB [] 28% 1.4s\u001b[0K\u001b[1G171.6 MiB [] 29% 1.3s\u001b[0K\u001b[1G171.6 MiB [] 31% 1.2s\u001b[0K\u001b[1G171.6 MiB [] 32% 1.2s\u001b[0K\u001b[1G171.6 MiB [] 34% 1.1s\u001b[0K\u001b[1G171.6 MiB [] 36% 1.1s\u001b[0K\u001b[1G171.6 MiB [] 37% 1.1s\u001b[0K\u001b[1G171.6 MiB [] 38% 1.0s\u001b[0K\u001b[1G171.6 MiB [] 40% 1.0s\u001b[0K\u001b[1G171.6 MiB [] 42% 0.9s\u001b[0K\u001b[1G171.6 MiB [] 43% 0.9s\u001b[0K\u001b[1G171.6 MiB [] 44% 0.9s\u001b[0K\u001b[1G171.6 MiB [] 46% 0.8s\u001b[0K\u001b[1G171.6 MiB [] 47% 0.8s\u001b[0K\u001b[1G171.6 MiB [] 49% 0.8s\u001b[0K\u001b[1G171.6 MiB [] 50% 0.8s\u001b[0K\u001b[1G171.6 MiB [] 52% 0.7s\u001b[0K\u001b[1G171.6 MiB [] 53% 0.7s\u001b[0K\u001b[1G171.6 MiB [] 55% 0.7s\u001b[0K\u001b[1G171.6 MiB [] 56% 0.6s\u001b[0K\u001b[1G171.6 MiB [] 58% 0.6s\u001b[0K\u001b[1G171.6 MiB [] 59% 0.6s\u001b[0K\u001b[1G171.6 MiB [] 62% 0.5s\u001b[0K\u001b[1G171.6 MiB [] 63% 0.5s\u001b[0K\u001b[1G171.6 MiB [] 64% 0.5s\u001b[0K\u001b[1G171.6 MiB [] 65% 0.5s\u001b[0K\u001b[1G171.6 MiB [] 66% 0.5s\u001b[0K\u001b[1G171.6 MiB [] 67% 0.5s\u001b[0K\u001b[1G171.6 MiB [] 68% 0.5s\u001b[0K\u001b[1G171.6 MiB [] 69% 0.5s\u001b[0K\u001b[1G171.6 MiB [] 70% 0.5s\u001b[0K\u001b[1G171.6 MiB [] 70% 0.4s\u001b[0K\u001b[1G171.6 MiB [] 71% 0.4s\u001b[0K\u001b[1G171.6 MiB [] 72% 0.4s\u001b[0K\u001b[1G171.6 MiB [] 73% 0.4s\u001b[0K\u001b[1G171.6 MiB [] 75% 0.4s\u001b[0K\u001b[1G171.6 MiB [] 76% 0.4s\u001b[0K\u001b[1G171.6 MiB [] 77% 0.3s\u001b[0K\u001b[1G171.6 MiB [] 79% 0.3s\u001b[0K\u001b[1G171.6 MiB [] 80% 0.3s\u001b[0K\u001b[1G171.6 MiB [] 81% 0.3s\u001b[0K\u001b[1G171.6 MiB [] 82% 0.3s\u001b[0K\u001b[1G171.6 MiB [] 83% 0.2s\u001b[0K\u001b[1G171.6 MiB [] 85% 0.2s\u001b[0K\u001b[1G171.6 MiB [] 86% 0.2s\u001b[0K\u001b[1G171.6 MiB [] 87% 0.2s\u001b[0K\u001b[1G171.6 MiB [] 89% 0.2s\u001b[0K\u001b[1G171.6 MiB [] 90% 0.1s\u001b[0K\u001b[1G171.6 MiB [] 92% 0.1s\u001b[0K\u001b[1G171.6 MiB [] 93% 0.1s\u001b[0K\u001b[1G171.6 MiB [] 94% 0.1s\u001b[0K\u001b[1G171.6 MiB [] 96% 0.1s\u001b[0K\u001b[1G171.6 MiB [] 97% 0.0s\u001b[0K\u001b[1G171.6 MiB [] 98% 0.0s\u001b[0K\u001b[1G171.6 MiB [] 100% 0.0s\u001b[0K\n",
            "Chromium 138.0.7204.23 (playwright build v1179) downloaded to /root/.cache/ms-playwright/chromium-1179\n",
            "Downloading FFMPEG playwright build v1011\u001b[2m from https://cdn.playwright.dev/dbazure/download/playwright/builds/ffmpeg/1011/ffmpeg-linux.zip\u001b[22m\n",
            "\u001b[1G2.3 MiB [] 0% 0.0s\u001b[0K\u001b[1G2.3 MiB [] 6% 0.2s\u001b[0K\u001b[1G2.3 MiB [] 17% 0.2s\u001b[0K\u001b[1G2.3 MiB [] 32% 0.1s\u001b[0K\u001b[1G2.3 MiB [] 52% 0.1s\u001b[0K\u001b[1G2.3 MiB [] 71% 0.0s\u001b[0K\u001b[1G2.3 MiB [] 100% 0.0s\u001b[0K\n",
            "FFMPEG playwright build v1011 downloaded to /root/.cache/ms-playwright/ffmpeg-1011\n",
            "Downloading Chromium Headless Shell 138.0.7204.23 (playwright build v1179)\u001b[2m from https://cdn.playwright.dev/dbazure/download/playwright/builds/chromium/1179/chromium-headless-shell-linux.zip\u001b[22m\n",
            "\u001b[1G104.5 MiB [] 0% 0.0s\u001b[0K\u001b[1G104.5 MiB [] 0% 6.0s\u001b[0K\u001b[1G104.5 MiB [] 0% 3.5s\u001b[0K\u001b[1G104.5 MiB [] 1% 2.7s\u001b[0K\u001b[1G104.5 MiB [] 2% 2.3s\u001b[0K\u001b[1G104.5 MiB [] 3% 2.1s\u001b[0K\u001b[1G104.5 MiB [] 4% 2.0s\u001b[0K\u001b[1G104.5 MiB [] 5% 1.9s\u001b[0K\u001b[1G104.5 MiB [] 6% 1.8s\u001b[0K\u001b[1G104.5 MiB [] 7% 1.9s\u001b[0K\u001b[1G104.5 MiB [] 8% 1.9s\u001b[0K\u001b[1G104.5 MiB [] 9% 2.0s\u001b[0K\u001b[1G104.5 MiB [] 10% 2.0s\u001b[0K\u001b[1G104.5 MiB [] 11% 2.0s\u001b[0K\u001b[1G104.5 MiB [] 12% 2.0s\u001b[0K\u001b[1G104.5 MiB [] 13% 1.9s\u001b[0K\u001b[1G104.5 MiB [] 14% 1.8s\u001b[0K\u001b[1G104.5 MiB [] 15% 1.8s\u001b[0K\u001b[1G104.5 MiB [] 16% 1.8s\u001b[0K\u001b[1G104.5 MiB [] 17% 1.8s\u001b[0K\u001b[1G104.5 MiB [] 18% 1.7s\u001b[0K\u001b[1G104.5 MiB [] 19% 1.7s\u001b[0K\u001b[1G104.5 MiB [] 20% 1.6s\u001b[0K\u001b[1G104.5 MiB [] 21% 1.6s\u001b[0K\u001b[1G104.5 MiB [] 22% 1.5s\u001b[0K\u001b[1G104.5 MiB [] 23% 1.5s\u001b[0K\u001b[1G104.5 MiB [] 25% 1.4s\u001b[0K\u001b[1G104.5 MiB [] 26% 1.4s\u001b[0K\u001b[1G104.5 MiB [] 28% 1.3s\u001b[0K\u001b[1G104.5 MiB [] 29% 1.3s\u001b[0K\u001b[1G104.5 MiB [] 30% 1.3s\u001b[0K\u001b[1G104.5 MiB [] 32% 1.2s\u001b[0K\u001b[1G104.5 MiB [] 33% 1.2s\u001b[0K\u001b[1G104.5 MiB [] 34% 1.1s\u001b[0K\u001b[1G104.5 MiB [] 35% 1.1s\u001b[0K\u001b[1G104.5 MiB [] 37% 1.1s\u001b[0K\u001b[1G104.5 MiB [] 38% 1.1s\u001b[0K\u001b[1G104.5 MiB [] 39% 1.0s\u001b[0K\u001b[1G104.5 MiB [] 40% 1.0s\u001b[0K\u001b[1G104.5 MiB [] 42% 1.0s\u001b[0K\u001b[1G104.5 MiB [] 43% 1.0s\u001b[0K\u001b[1G104.5 MiB [] 44% 0.9s\u001b[0K\u001b[1G104.5 MiB [] 46% 0.9s\u001b[0K\u001b[1G104.5 MiB [] 47% 0.9s\u001b[0K\u001b[1G104.5 MiB [] 48% 0.9s\u001b[0K\u001b[1G104.5 MiB [] 49% 0.8s\u001b[0K\u001b[1G104.5 MiB [] 51% 0.8s\u001b[0K\u001b[1G104.5 MiB [] 53% 0.8s\u001b[0K\u001b[1G104.5 MiB [] 55% 0.7s\u001b[0K\u001b[1G104.5 MiB [] 56% 0.7s\u001b[0K\u001b[1G104.5 MiB [] 58% 0.6s\u001b[0K\u001b[1G104.5 MiB [] 60% 0.6s\u001b[0K\u001b[1G104.5 MiB [] 62% 0.6s\u001b[0K\u001b[1G104.5 MiB [] 64% 0.5s\u001b[0K\u001b[1G104.5 MiB [] 65% 0.5s\u001b[0K\u001b[1G104.5 MiB [] 67% 0.5s\u001b[0K\u001b[1G104.5 MiB [] 69% 0.4s\u001b[0K\u001b[1G104.5 MiB [] 71% 0.4s\u001b[0K\u001b[1G104.5 MiB [] 73% 0.4s\u001b[0K\u001b[1G104.5 MiB [] 74% 0.4s\u001b[0K\u001b[1G104.5 MiB [] 76% 0.3s\u001b[0K\u001b[1G104.5 MiB [] 78% 0.3s\u001b[0K\u001b[1G104.5 MiB [] 80% 0.3s\u001b[0K\u001b[1G104.5 MiB [] 81% 0.2s\u001b[0K\u001b[1G104.5 MiB [] 83% 0.2s\u001b[0K\u001b[1G104.5 MiB [] 85% 0.2s\u001b[0K\u001b[1G104.5 MiB [] 86% 0.2s\u001b[0K\u001b[1G104.5 MiB [] 87% 0.2s\u001b[0K\u001b[1G104.5 MiB [] 89% 0.1s\u001b[0K\u001b[1G104.5 MiB [] 91% 0.1s\u001b[0K\u001b[1G104.5 MiB [] 92% 0.1s\u001b[0K\u001b[1G104.5 MiB [] 94% 0.1s\u001b[0K\u001b[1G104.5 MiB [] 95% 0.1s\u001b[0K\u001b[1G104.5 MiB [] 96% 0.0s\u001b[0K\u001b[1G104.5 MiB [] 98% 0.0s\u001b[0K\u001b[1G104.5 MiB [] 100% 0.0s\u001b[0K\n",
            "Chromium Headless Shell 138.0.7204.23 (playwright build v1179) downloaded to /root/.cache/ms-playwright/chromium_headless_shell-1179\n"
          ]
        }
      ]
    },
    {
      "cell_type": "code",
      "source": [
        "import nest_asyncio\n",
        "import asyncio\n",
        "nest_asyncio.apply()\n",
        "from playwright.async_api import async_playwright"
      ],
      "metadata": {
        "id": "euIlDQ9S9nE1"
      },
      "execution_count": 2,
      "outputs": []
    },
    {
      "cell_type": "markdown",
      "source": [
        "### **Instalando os pacotes de Logging e outros pacotes genéricos configurando o ambiente**"
      ],
      "metadata": {
        "id": "r4u-SHcNAtPW"
      }
    },
    {
      "cell_type": "code",
      "source": [
        "import logging\n",
        "import os\n",
        "import pandas as pd\n",
        "from IPython.display import Image, display\n",
        "import zipfile\n",
        "import io\n",
        "from io import TextIOWrapper\n",
        "import numpy as np\n",
        "from numpy import ndarray\n",
        "from typing import List, Tuple, IO\n",
        "import re"
      ],
      "metadata": {
        "id": "abi3-Dp2Ay88"
      },
      "execution_count": 3,
      "outputs": []
    },
    {
      "cell_type": "code",
      "source": [
        "# Resetar os handlers existentes no colab\n",
        "for handler in logging.root.handlers[:]:\n",
        "  logging.root.removeHandler(handler)\n",
        "\n",
        "logging.basicConfig(\n",
        "    level=logging.INFO,\n",
        "    format=\"%(asctime)s [%(levelname)s] %(message)s\"\n",
        ")\n",
        "\n",
        "logger = logging.getLogger()"
      ],
      "metadata": {
        "id": "IaYpJu0yA352"
      },
      "execution_count": 4,
      "outputs": []
    },
    {
      "cell_type": "markdown",
      "source": [
        "### **Coletando Arquivos Meteorológicos das estações**\n",
        "#### Os arquivos meteorológicos serão baixados diretamente do site do AlertaRio."
      ],
      "metadata": {
        "id": "YiOY6DE5Kmqn"
      }
    },
    {
      "cell_type": "markdown",
      "source": [
        "#### O algoritmo que executa o webscraping vai acessar um arquivos HTML e executar os procedimentos que estão mostrados na imagem, que é selecionar a opção \"Todos\", selecionar ano por ano e depois clicar no botão de \"Download\"\n",
        "![Tela de Dados Meteorológicos](https://drive.google.com/uc?id=1LfUHnfAS1xACBJwFaWr3cNy6n2uhYzTB)"
      ],
      "metadata": {
        "id": "3N3LeqIGKwZp"
      }
    },
    {
      "cell_type": "code",
      "source": [
        "URL_METEOLOROLOGICOS = \"https://websempre.rio.rj.gov.br/dados/pluviometricos/met/\"\n",
        "PASTA_DESTINO_MET = \"/content/alertario/zips/met\""
      ],
      "metadata": {
        "id": "MjY7S03yK2Mf"
      },
      "execution_count": 5,
      "outputs": []
    },
    {
      "cell_type": "code",
      "source": [
        "# Adicionar aqui o Código de Coleta dos Arquivos das Estações Meteorológicas.\n",
        "async def baixar_dados_meteorologicos_por_ano(ano: str):\n",
        "  logger.info(f\"Iniciando processo de download dos dados meteorológicos para o ano de {ano}\")\n",
        "\n",
        "  nm_arquivo = f\"dados_meteorologicos_{ano}.zip\"\n",
        "\n",
        "  # Verificando se o arquivo já existe para não regerar à toa\n",
        "  if os.path.exists(os.path.join(PASTA_DESTINO_MET, nm_arquivo)):\n",
        "    logger.info(f\"Arquivo para o ano de {ano} já existe. Pulando download!\")\n",
        "    return\n",
        "\n",
        "  async with async_playwright() as p:\n",
        "    logger.info(\"Abrindo navegador...\")\n",
        "    navegador = await p.chromium.launch(headless=True)\n",
        "    pagina = await navegador.new_page()\n",
        "\n",
        "    logger.info(f\"Acessando página: {URL_METEOLOROLOGICOS}\")\n",
        "    await pagina.goto(URL_METEOLOROLOGICOS)\n",
        "    logger.info(f\"Na página: {URL_METEOLOROLOGICOS}...\")\n",
        "\n",
        "    logger.info(\"Esperando carregamento dos elementos...\")\n",
        "    # Espera até que os selects e checkboxes estejam prontos\n",
        "    await pagina.wait_for_selector(\"select\")\n",
        "    await pagina.wait_for_selector(\"input[type='checkbox']\")\n",
        "\n",
        "    logger.info(\"Elementos carregados! Continuando...\")\n",
        "\n",
        "    # Seleciona o ano na linha \"Todas\" (geralmente o último <select>)\n",
        "    logger.info(\"Selecionando o ano na linha 'Todas'...\")\n",
        "    selects = await pagina.query_selector_all(\"select\")\n",
        "    select_todas = selects[-1]\n",
        "    await select_todas.select_option(ano)\n",
        "    logger.info(\"Ano na linha 'Todas'selecionado! Continuando...\")\n",
        "\n",
        "    # Marca o checkbox \"Todas\" (geralmente o último checkbox)\n",
        "    # checkboxes = await pagina.query_selector_all(\"input[type='checkbox]\")\n",
        "    # checkbox_todas = checkboxes[-1]\n",
        "    # await checkbox_todas.set_checked(True)\n",
        "    logger.info(\"Marcando a checkpoint 'Todas'...\")\n",
        "    checkbox_todas = await pagina.query_selector(\"#all_check\")\n",
        "    await checkbox_todas.set_checked(True)\n",
        "    logger.info(\"Checkpoint 'Todas' marcado! Continuando...\")\n",
        "\n",
        "    logger.info(\"Aguardando 2 segundos antes de clicar em download para evitar bloqueio...\")\n",
        "    await asyncio.sleep(2)\n",
        "\n",
        "    # Inicia interceptação para capturar o download\n",
        "    logger.info(\"Preparando para capturar o download...\")\n",
        "    async with pagina.expect_download() as download_info:\n",
        "      logger.info(\"Clicando no botão de Download...\")\n",
        "      # Clica no botão de \"Download\"\n",
        "      await pagina.click(\"input[value='Download']\")\n",
        "\n",
        "    # Espera o download terminar\n",
        "    download = await download_info.value\n",
        "    path_temp = await download.path()\n",
        "    destino_final = os.path.join(PASTA_DESTINO_MET, nm_arquivo)\n",
        "    await download.save_as(destino_final)\n",
        "\n",
        "    logger.info(f\"Download de concluído: {destino_final}\")\n",
        "\n",
        "    print(f\"Arquivo salvo: {destino_final}\")\n",
        "\n",
        "    await navegador.close()\n",
        "    logger.info(\"Navegador fechado. Processo encerrado com sucesso.\")"
      ],
      "metadata": {
        "id": "ffIc6fzUXfdA"
      },
      "execution_count": 6,
      "outputs": []
    },
    {
      "cell_type": "code",
      "source": [
        "for ano in range(1997,2026):\n",
        "  await baixar_dados_meteorologicos_por_ano(str(ano))"
      ],
      "metadata": {
        "id": "EpUgYhEGYB1r",
        "colab": {
          "base_uri": "https://localhost:8080/",
          "height": 391
        },
        "outputId": "4a11ffc0-fb8e-424f-a290-0f8fd3139ee8"
      },
      "execution_count": 8,
      "outputs": [
        {
          "output_type": "stream",
          "name": "stderr",
          "text": [
            "2025-07-02 11:43:13,560 [INFO] Iniciando processo de download dos dados meteorológicos para o ano de 1997\n",
            "2025-07-02 11:43:14,264 [INFO] Abrindo navegador...\n",
            "2025-07-02 11:43:14,603 [INFO] Acessando página: https://websempre.rio.rj.gov.br/dados/pluviometricos/met/\n"
          ]
        },
        {
          "output_type": "error",
          "ename": "TimeoutError",
          "evalue": "Page.goto: Timeout 30000ms exceeded.\nCall log:\n  - navigating to \"https://websempre.rio.rj.gov.br/dados/pluviometricos/met/\", waiting until \"load\"\n",
          "traceback": [
            "\u001b[0;31m---------------------------------------------------------------------------\u001b[0m",
            "\u001b[0;31mTimeoutError\u001b[0m                              Traceback (most recent call last)",
            "\u001b[0;32m/tmp/ipython-input-8-3161026833.py\u001b[0m in \u001b[0;36m<cell line: 1>\u001b[0;34m()\u001b[0m\n\u001b[1;32m      1\u001b[0m \u001b[0;32mfor\u001b[0m \u001b[0mano\u001b[0m \u001b[0;32min\u001b[0m \u001b[0mrange\u001b[0m\u001b[0;34m(\u001b[0m\u001b[0;36m1997\u001b[0m\u001b[0;34m,\u001b[0m\u001b[0;36m2026\u001b[0m\u001b[0;34m)\u001b[0m\u001b[0;34m:\u001b[0m\u001b[0;34m\u001b[0m\u001b[0;34m\u001b[0m\u001b[0m\n\u001b[0;32m----> 2\u001b[0;31m   \u001b[0;32mawait\u001b[0m \u001b[0mbaixar_dados_meteorologicos_por_ano\u001b[0m\u001b[0;34m(\u001b[0m\u001b[0mstr\u001b[0m\u001b[0;34m(\u001b[0m\u001b[0mano\u001b[0m\u001b[0;34m)\u001b[0m\u001b[0;34m)\u001b[0m\u001b[0;34m\u001b[0m\u001b[0;34m\u001b[0m\u001b[0m\n\u001b[0m",
            "\u001b[0;32m/tmp/ipython-input-6-2665979871.py\u001b[0m in \u001b[0;36mbaixar_dados_meteorologicos_por_ano\u001b[0;34m(ano)\u001b[0m\n\u001b[1;32m     16\u001b[0m \u001b[0;34m\u001b[0m\u001b[0m\n\u001b[1;32m     17\u001b[0m     \u001b[0mlogger\u001b[0m\u001b[0;34m.\u001b[0m\u001b[0minfo\u001b[0m\u001b[0;34m(\u001b[0m\u001b[0;34mf\"Acessando página: {URL_METEOLOROLOGICOS}\"\u001b[0m\u001b[0;34m)\u001b[0m\u001b[0;34m\u001b[0m\u001b[0;34m\u001b[0m\u001b[0m\n\u001b[0;32m---> 18\u001b[0;31m     \u001b[0;32mawait\u001b[0m \u001b[0mpagina\u001b[0m\u001b[0;34m.\u001b[0m\u001b[0mgoto\u001b[0m\u001b[0;34m(\u001b[0m\u001b[0mURL_METEOLOROLOGICOS\u001b[0m\u001b[0;34m)\u001b[0m\u001b[0;34m\u001b[0m\u001b[0;34m\u001b[0m\u001b[0m\n\u001b[0m\u001b[1;32m     19\u001b[0m     \u001b[0mlogger\u001b[0m\u001b[0;34m.\u001b[0m\u001b[0minfo\u001b[0m\u001b[0;34m(\u001b[0m\u001b[0;34mf\"Na página: {URL_METEOLOROLOGICOS}...\"\u001b[0m\u001b[0;34m)\u001b[0m\u001b[0;34m\u001b[0m\u001b[0;34m\u001b[0m\u001b[0m\n\u001b[1;32m     20\u001b[0m \u001b[0;34m\u001b[0m\u001b[0m\n",
            "\u001b[0;32m/usr/local/lib/python3.11/dist-packages/playwright/async_api/_generated.py\u001b[0m in \u001b[0;36mgoto\u001b[0;34m(self, url, timeout, wait_until, referer)\u001b[0m\n\u001b[1;32m   8973\u001b[0m \u001b[0;34m\u001b[0m\u001b[0m\n\u001b[1;32m   8974\u001b[0m         return mapping.from_impl_nullable(\n\u001b[0;32m-> 8975\u001b[0;31m             await self._impl_obj.goto(\n\u001b[0m\u001b[1;32m   8976\u001b[0m                 \u001b[0murl\u001b[0m\u001b[0;34m=\u001b[0m\u001b[0murl\u001b[0m\u001b[0;34m,\u001b[0m \u001b[0mtimeout\u001b[0m\u001b[0;34m=\u001b[0m\u001b[0mtimeout\u001b[0m\u001b[0;34m,\u001b[0m \u001b[0mwaitUntil\u001b[0m\u001b[0;34m=\u001b[0m\u001b[0mwait_until\u001b[0m\u001b[0;34m,\u001b[0m \u001b[0mreferer\u001b[0m\u001b[0;34m=\u001b[0m\u001b[0mreferer\u001b[0m\u001b[0;34m\u001b[0m\u001b[0;34m\u001b[0m\u001b[0m\n\u001b[1;32m   8977\u001b[0m             )\n",
            "\u001b[0;32m/usr/local/lib/python3.11/dist-packages/playwright/_impl/_page.py\u001b[0m in \u001b[0;36mgoto\u001b[0;34m(self, url, timeout, waitUntil, referer)\u001b[0m\n\u001b[1;32m    554\u001b[0m         \u001b[0mreferer\u001b[0m\u001b[0;34m:\u001b[0m \u001b[0mstr\u001b[0m \u001b[0;34m=\u001b[0m \u001b[0;32mNone\u001b[0m\u001b[0;34m,\u001b[0m\u001b[0;34m\u001b[0m\u001b[0;34m\u001b[0m\u001b[0m\n\u001b[1;32m    555\u001b[0m     ) -> Optional[Response]:\n\u001b[0;32m--> 556\u001b[0;31m         \u001b[0;32mreturn\u001b[0m \u001b[0;32mawait\u001b[0m \u001b[0mself\u001b[0m\u001b[0;34m.\u001b[0m\u001b[0m_main_frame\u001b[0m\u001b[0;34m.\u001b[0m\u001b[0mgoto\u001b[0m\u001b[0;34m(\u001b[0m\u001b[0;34m**\u001b[0m\u001b[0mlocals_to_params\u001b[0m\u001b[0;34m(\u001b[0m\u001b[0mlocals\u001b[0m\u001b[0;34m(\u001b[0m\u001b[0;34m)\u001b[0m\u001b[0;34m)\u001b[0m\u001b[0;34m)\u001b[0m\u001b[0;34m\u001b[0m\u001b[0;34m\u001b[0m\u001b[0m\n\u001b[0m\u001b[1;32m    557\u001b[0m \u001b[0;34m\u001b[0m\u001b[0m\n\u001b[1;32m    558\u001b[0m     async def reload(\n",
            "\u001b[0;32m/usr/local/lib/python3.11/dist-packages/playwright/_impl/_frame.py\u001b[0m in \u001b[0;36mgoto\u001b[0;34m(self, url, timeout, waitUntil, referer)\u001b[0m\n\u001b[1;32m    144\u001b[0m             \u001b[0mOptional\u001b[0m\u001b[0;34m[\u001b[0m\u001b[0mResponse\u001b[0m\u001b[0;34m]\u001b[0m\u001b[0;34m,\u001b[0m\u001b[0;34m\u001b[0m\u001b[0;34m\u001b[0m\u001b[0m\n\u001b[1;32m    145\u001b[0m             from_nullable_channel(\n\u001b[0;32m--> 146\u001b[0;31m                 await self._channel.send(\n\u001b[0m\u001b[1;32m    147\u001b[0m                     \u001b[0;34m\"goto\"\u001b[0m\u001b[0;34m,\u001b[0m \u001b[0mself\u001b[0m\u001b[0;34m.\u001b[0m\u001b[0m_navigation_timeout\u001b[0m\u001b[0;34m,\u001b[0m \u001b[0mlocals_to_params\u001b[0m\u001b[0;34m(\u001b[0m\u001b[0mlocals\u001b[0m\u001b[0;34m(\u001b[0m\u001b[0;34m)\u001b[0m\u001b[0;34m)\u001b[0m\u001b[0;34m\u001b[0m\u001b[0;34m\u001b[0m\u001b[0m\n\u001b[1;32m    148\u001b[0m                 )\n",
            "\u001b[0;32m/usr/local/lib/python3.11/dist-packages/playwright/_impl/_connection.py\u001b[0m in \u001b[0;36msend\u001b[0;34m(self, method, timeout_calculator, params, is_internal, title)\u001b[0m\n\u001b[1;32m     67\u001b[0m         \u001b[0mtitle\u001b[0m\u001b[0;34m:\u001b[0m \u001b[0mstr\u001b[0m \u001b[0;34m=\u001b[0m \u001b[0;32mNone\u001b[0m\u001b[0;34m,\u001b[0m\u001b[0;34m\u001b[0m\u001b[0;34m\u001b[0m\u001b[0m\n\u001b[1;32m     68\u001b[0m     ) -> Any:\n\u001b[0;32m---> 69\u001b[0;31m         return await self._connection.wrap_api_call(\n\u001b[0m\u001b[1;32m     70\u001b[0m             \u001b[0;32mlambda\u001b[0m\u001b[0;34m:\u001b[0m \u001b[0mself\u001b[0m\u001b[0;34m.\u001b[0m\u001b[0m_inner_send\u001b[0m\u001b[0;34m(\u001b[0m\u001b[0mmethod\u001b[0m\u001b[0;34m,\u001b[0m \u001b[0mtimeout_calculator\u001b[0m\u001b[0;34m,\u001b[0m \u001b[0mparams\u001b[0m\u001b[0;34m,\u001b[0m \u001b[0;32mFalse\u001b[0m\u001b[0;34m)\u001b[0m\u001b[0;34m,\u001b[0m\u001b[0;34m\u001b[0m\u001b[0;34m\u001b[0m\u001b[0m\n\u001b[1;32m     71\u001b[0m             \u001b[0mis_internal\u001b[0m\u001b[0;34m,\u001b[0m\u001b[0;34m\u001b[0m\u001b[0;34m\u001b[0m\u001b[0m\n",
            "\u001b[0;32m/usr/local/lib/python3.11/dist-packages/playwright/_impl/_connection.py\u001b[0m in \u001b[0;36mwrap_api_call\u001b[0;34m(self, cb, is_internal, title)\u001b[0m\n\u001b[1;32m    556\u001b[0m             \u001b[0;32mreturn\u001b[0m \u001b[0;32mawait\u001b[0m \u001b[0mcb\u001b[0m\u001b[0;34m(\u001b[0m\u001b[0;34m)\u001b[0m\u001b[0;34m\u001b[0m\u001b[0;34m\u001b[0m\u001b[0m\n\u001b[1;32m    557\u001b[0m         \u001b[0;32mexcept\u001b[0m \u001b[0mException\u001b[0m \u001b[0;32mas\u001b[0m \u001b[0merror\u001b[0m\u001b[0;34m:\u001b[0m\u001b[0;34m\u001b[0m\u001b[0;34m\u001b[0m\u001b[0m\n\u001b[0;32m--> 558\u001b[0;31m             \u001b[0;32mraise\u001b[0m \u001b[0mrewrite_error\u001b[0m\u001b[0;34m(\u001b[0m\u001b[0merror\u001b[0m\u001b[0;34m,\u001b[0m \u001b[0;34mf\"{parsed_st['apiName']}: {error}\"\u001b[0m\u001b[0;34m)\u001b[0m \u001b[0;32mfrom\u001b[0m \u001b[0;32mNone\u001b[0m\u001b[0;34m\u001b[0m\u001b[0;34m\u001b[0m\u001b[0m\n\u001b[0m\u001b[1;32m    559\u001b[0m         \u001b[0;32mfinally\u001b[0m\u001b[0;34m:\u001b[0m\u001b[0;34m\u001b[0m\u001b[0;34m\u001b[0m\u001b[0m\n\u001b[1;32m    560\u001b[0m             \u001b[0mself\u001b[0m\u001b[0;34m.\u001b[0m\u001b[0m_api_zone\u001b[0m\u001b[0;34m.\u001b[0m\u001b[0mset\u001b[0m\u001b[0;34m(\u001b[0m\u001b[0;32mNone\u001b[0m\u001b[0;34m)\u001b[0m\u001b[0;34m\u001b[0m\u001b[0;34m\u001b[0m\u001b[0m\n",
            "\u001b[0;31mTimeoutError\u001b[0m: Page.goto: Timeout 30000ms exceeded.\nCall log:\n  - navigating to \"https://websempre.rio.rj.gov.br/dados/pluviometricos/met/\", waiting until \"load\"\n"
          ]
        }
      ]
    },
    {
      "cell_type": "markdown",
      "source": [
        "\n",
        "#### Cada \"pacote\" anual vêm com um arquivo .zip contendo os arquivos .txt com o nome de cada estação seguido pelo número do mês de coleta.\n",
        "![Conteúdo de zip de dados meteorológicos](https://drive.google.com/uc?id=1_YucfC0fDaKc2iQiehpc_XTwH6E6UdeJ)\n"
      ],
      "metadata": {
        "id": "UmLojKV49R-n"
      }
    },
    {
      "cell_type": "markdown",
      "source": [
        "### **Coletando Arquivos Pluviométricos das estações**\n",
        "#### Os arquivos pluviométricos serão baixados diretamente do site do AlertaRio."
      ],
      "metadata": {
        "id": "6O-bd9kOAPdH"
      }
    },
    {
      "cell_type": "markdown",
      "source": [
        "#### O algoritmo que executa o webscraping vai acessar um arquivos HTML e executar os procedimentos que estão mostrados na imagem, que é selecionar a opção \"Todos\", selecionar ano por ano e depois clicar no botão de \"Download\"\n",
        "![Tela de Dados Pluviométricos](https://drive.google.com/uc?id=1oeDFS3CGNl14bry--W4mLSmbShLbilsE)\n",
        "\n",
        "\n"
      ],
      "metadata": {
        "id": "ya-KJnaPU5Qs"
      }
    },
    {
      "cell_type": "markdown",
      "source": [
        "#### Cada \"pacote\" anual vêm com um arquivo .zip contendo os arquivos .txt com o nome de cada estação seguido pelo número do mês de coleta.\n",
        "![Conteúdo de zip de dados Pluviométricos](https://drive.google.com/uc?id=1Y1GjPSuu3mt9goK9JC3u71EzeLVfMgu7)"
      ],
      "metadata": {
        "id": "GHXJP4t0V-v7"
      }
    },
    {
      "cell_type": "code",
      "source": [
        "URL_PLUVIOMETRICOS = \"https://websempre.rio.rj.gov.br/dados/pluviometricos/plv/\"\n",
        "PASTA_DESTINO_PLV = \"/content/alertario/zips/plv\""
      ],
      "metadata": {
        "id": "retaHh23V_Jo"
      },
      "execution_count": 9,
      "outputs": []
    },
    {
      "cell_type": "code",
      "source": [
        "# Adicionar aqui o Código de Coleta dos Arquivos das Estações Pluviométricas.\n",
        "async def baixar_dados_pluviometricos_por_ano(ano: str):\n",
        "  logger.info(f\"Iniciando processo de download dos dados pluviométricos para o ano de {ano}\")\n",
        "\n",
        "  nm_arquivo = f\"dados_pluviometricos_{ano}.zip\"\n",
        "\n",
        "  # Verificando se o arquivo já existe para não regerar à toa\n",
        "  if os.path.exists(os.path.join(PASTA_DESTINO_PLV, nm_arquivo)):\n",
        "    logger.info(f\"Arquivo para o ano de {ano} já existe. Pulando download!\")\n",
        "    return\n",
        "\n",
        "  async with async_playwright() as p:\n",
        "    logger.info(\"Abrindo navegador...\")\n",
        "    navegador = await p.chromium.launch(headless=True)\n",
        "    pagina = await navegador.new_page()\n",
        "\n",
        "    logger.info(f\"Acessando página: {URL_PLUVIOMETRICOS}\")\n",
        "    await pagina.goto(URL_PLUVIOMETRICOS)\n",
        "    logger.info(f\"Na página: {URL_PLUVIOMETRICOS}...\")\n",
        "\n",
        "    logger.info(\"Esperando carregamento dos elementos...\")\n",
        "    # Espera até que os selects e checkboxes estejam prontos\n",
        "    await pagina.wait_for_selector(\"select\")\n",
        "    await pagina.wait_for_selector(\"input[type='checkbox']\")\n",
        "\n",
        "    logger.info(\"Elementos carregados! Continuando...\")\n",
        "\n",
        "    # Seleciona o ano na linha \"Todas\" (geralmente o último <select>)\n",
        "    logger.info(\"Selecionando o ano na linha 'Todas'...\")\n",
        "    selects = await pagina.query_selector_all(\"select\")\n",
        "    select_todas = selects[-1]\n",
        "    await select_todas.select_option(ano)\n",
        "    logger.info(\"Ano na linha 'Todas'selecionado! Continuando...\")\n",
        "\n",
        "    # Marca o checkbox \"Todas\" (geralmente o último checkbox)\n",
        "    # checkboxes = await pagina.query_selector_all(\"input[type='checkbox]\")\n",
        "    # checkbox_todas = checkboxes[-1]\n",
        "    # await checkbox_todas.set_checked(True)\n",
        "    logger.info(\"Marcando a checkpoint 'Todas'...\")\n",
        "    checkbox_todas = await pagina.query_selector(\"#all_check\")\n",
        "    await checkbox_todas.set_checked(True)\n",
        "    logger.info(\"Checkpoint 'Todas' marcado! Continuando...\")\n",
        "\n",
        "    logger.info(\"Aguardando 2 segundos antes de clicar em download para evitar bloqueio...\")\n",
        "    await asyncio.sleep(2)\n",
        "\n",
        "    # Inicia interceptação para capturar o download\n",
        "    logger.info(\"Preparando para capturar o download...\")\n",
        "    async with pagina.expect_download() as download_info:\n",
        "      logger.info(\"Clicando no botão de Download...\")\n",
        "      # Clica no botão de \"Download\"\n",
        "      await pagina.click(\"input[value='Download']\")\n",
        "\n",
        "    # Espera o download terminar\n",
        "    download = await download_info.value\n",
        "    path_temp = await download.path()\n",
        "    destino_final = os.path.join(PASTA_DESTINO_PLV, nm_arquivo)\n",
        "    await download.save_as(destino_final)\n",
        "\n",
        "    logger.info(f\"Download de concluído: {destino_final}\")\n",
        "\n",
        "    print(f\"Arquivo salvo: {destino_final}\")\n",
        "\n",
        "    await navegador.close()\n",
        "    logger.info(\"Navegador fechado. Processo encerrado com sucesso.\")"
      ],
      "metadata": {
        "id": "Edg2_zrGXiOX"
      },
      "execution_count": 10,
      "outputs": []
    },
    {
      "cell_type": "code",
      "source": [
        "for ano in range(1997, 2026):\n",
        "  await baixar_dados_pluviometricos_por_ano(str(ano))"
      ],
      "metadata": {
        "id": "FRfrmzP_Z3Yk",
        "colab": {
          "base_uri": "https://localhost:8080/",
          "height": 391
        },
        "outputId": "67b42f98-5724-46d3-f4cf-2058aac2df8a"
      },
      "execution_count": 11,
      "outputs": [
        {
          "output_type": "stream",
          "name": "stderr",
          "text": [
            "2025-07-02 11:43:59,105 [INFO] Iniciando processo de download dos dados pluviométricos para o ano de 1997\n",
            "2025-07-02 11:43:59,640 [INFO] Abrindo navegador...\n",
            "2025-07-02 11:43:59,955 [INFO] Acessando página: https://websempre.rio.rj.gov.br/dados/pluviometricos/plv/\n"
          ]
        },
        {
          "output_type": "error",
          "ename": "TimeoutError",
          "evalue": "Page.goto: Timeout 30000ms exceeded.\nCall log:\n  - navigating to \"https://websempre.rio.rj.gov.br/dados/pluviometricos/plv/\", waiting until \"load\"\n",
          "traceback": [
            "\u001b[0;31m---------------------------------------------------------------------------\u001b[0m",
            "\u001b[0;31mTimeoutError\u001b[0m                              Traceback (most recent call last)",
            "\u001b[0;32m/tmp/ipython-input-11-2330534899.py\u001b[0m in \u001b[0;36m<cell line: 1>\u001b[0;34m()\u001b[0m\n\u001b[1;32m      1\u001b[0m \u001b[0;32mfor\u001b[0m \u001b[0mano\u001b[0m \u001b[0;32min\u001b[0m \u001b[0mrange\u001b[0m\u001b[0;34m(\u001b[0m\u001b[0;36m1997\u001b[0m\u001b[0;34m,\u001b[0m \u001b[0;36m2026\u001b[0m\u001b[0;34m)\u001b[0m\u001b[0;34m:\u001b[0m\u001b[0;34m\u001b[0m\u001b[0;34m\u001b[0m\u001b[0m\n\u001b[0;32m----> 2\u001b[0;31m   \u001b[0;32mawait\u001b[0m \u001b[0mbaixar_dados_pluviometricos_por_ano\u001b[0m\u001b[0;34m(\u001b[0m\u001b[0mstr\u001b[0m\u001b[0;34m(\u001b[0m\u001b[0mano\u001b[0m\u001b[0;34m)\u001b[0m\u001b[0;34m)\u001b[0m\u001b[0;34m\u001b[0m\u001b[0;34m\u001b[0m\u001b[0m\n\u001b[0m",
            "\u001b[0;32m/tmp/ipython-input-10-142968491.py\u001b[0m in \u001b[0;36mbaixar_dados_pluviometricos_por_ano\u001b[0;34m(ano)\u001b[0m\n\u001b[1;32m     16\u001b[0m \u001b[0;34m\u001b[0m\u001b[0m\n\u001b[1;32m     17\u001b[0m     \u001b[0mlogger\u001b[0m\u001b[0;34m.\u001b[0m\u001b[0minfo\u001b[0m\u001b[0;34m(\u001b[0m\u001b[0;34mf\"Acessando página: {URL_PLUVIOMETRICOS}\"\u001b[0m\u001b[0;34m)\u001b[0m\u001b[0;34m\u001b[0m\u001b[0;34m\u001b[0m\u001b[0m\n\u001b[0;32m---> 18\u001b[0;31m     \u001b[0;32mawait\u001b[0m \u001b[0mpagina\u001b[0m\u001b[0;34m.\u001b[0m\u001b[0mgoto\u001b[0m\u001b[0;34m(\u001b[0m\u001b[0mURL_PLUVIOMETRICOS\u001b[0m\u001b[0;34m)\u001b[0m\u001b[0;34m\u001b[0m\u001b[0;34m\u001b[0m\u001b[0m\n\u001b[0m\u001b[1;32m     19\u001b[0m     \u001b[0mlogger\u001b[0m\u001b[0;34m.\u001b[0m\u001b[0minfo\u001b[0m\u001b[0;34m(\u001b[0m\u001b[0;34mf\"Na página: {URL_PLUVIOMETRICOS}...\"\u001b[0m\u001b[0;34m)\u001b[0m\u001b[0;34m\u001b[0m\u001b[0;34m\u001b[0m\u001b[0m\n\u001b[1;32m     20\u001b[0m \u001b[0;34m\u001b[0m\u001b[0m\n",
            "\u001b[0;32m/usr/local/lib/python3.11/dist-packages/playwright/async_api/_generated.py\u001b[0m in \u001b[0;36mgoto\u001b[0;34m(self, url, timeout, wait_until, referer)\u001b[0m\n\u001b[1;32m   8973\u001b[0m \u001b[0;34m\u001b[0m\u001b[0m\n\u001b[1;32m   8974\u001b[0m         return mapping.from_impl_nullable(\n\u001b[0;32m-> 8975\u001b[0;31m             await self._impl_obj.goto(\n\u001b[0m\u001b[1;32m   8976\u001b[0m                 \u001b[0murl\u001b[0m\u001b[0;34m=\u001b[0m\u001b[0murl\u001b[0m\u001b[0;34m,\u001b[0m \u001b[0mtimeout\u001b[0m\u001b[0;34m=\u001b[0m\u001b[0mtimeout\u001b[0m\u001b[0;34m,\u001b[0m \u001b[0mwaitUntil\u001b[0m\u001b[0;34m=\u001b[0m\u001b[0mwait_until\u001b[0m\u001b[0;34m,\u001b[0m \u001b[0mreferer\u001b[0m\u001b[0;34m=\u001b[0m\u001b[0mreferer\u001b[0m\u001b[0;34m\u001b[0m\u001b[0;34m\u001b[0m\u001b[0m\n\u001b[1;32m   8977\u001b[0m             )\n",
            "\u001b[0;32m/usr/local/lib/python3.11/dist-packages/playwright/_impl/_page.py\u001b[0m in \u001b[0;36mgoto\u001b[0;34m(self, url, timeout, waitUntil, referer)\u001b[0m\n\u001b[1;32m    554\u001b[0m         \u001b[0mreferer\u001b[0m\u001b[0;34m:\u001b[0m \u001b[0mstr\u001b[0m \u001b[0;34m=\u001b[0m \u001b[0;32mNone\u001b[0m\u001b[0;34m,\u001b[0m\u001b[0;34m\u001b[0m\u001b[0;34m\u001b[0m\u001b[0m\n\u001b[1;32m    555\u001b[0m     ) -> Optional[Response]:\n\u001b[0;32m--> 556\u001b[0;31m         \u001b[0;32mreturn\u001b[0m \u001b[0;32mawait\u001b[0m \u001b[0mself\u001b[0m\u001b[0;34m.\u001b[0m\u001b[0m_main_frame\u001b[0m\u001b[0;34m.\u001b[0m\u001b[0mgoto\u001b[0m\u001b[0;34m(\u001b[0m\u001b[0;34m**\u001b[0m\u001b[0mlocals_to_params\u001b[0m\u001b[0;34m(\u001b[0m\u001b[0mlocals\u001b[0m\u001b[0;34m(\u001b[0m\u001b[0;34m)\u001b[0m\u001b[0;34m)\u001b[0m\u001b[0;34m)\u001b[0m\u001b[0;34m\u001b[0m\u001b[0;34m\u001b[0m\u001b[0m\n\u001b[0m\u001b[1;32m    557\u001b[0m \u001b[0;34m\u001b[0m\u001b[0m\n\u001b[1;32m    558\u001b[0m     async def reload(\n",
            "\u001b[0;32m/usr/local/lib/python3.11/dist-packages/playwright/_impl/_frame.py\u001b[0m in \u001b[0;36mgoto\u001b[0;34m(self, url, timeout, waitUntil, referer)\u001b[0m\n\u001b[1;32m    144\u001b[0m             \u001b[0mOptional\u001b[0m\u001b[0;34m[\u001b[0m\u001b[0mResponse\u001b[0m\u001b[0;34m]\u001b[0m\u001b[0;34m,\u001b[0m\u001b[0;34m\u001b[0m\u001b[0;34m\u001b[0m\u001b[0m\n\u001b[1;32m    145\u001b[0m             from_nullable_channel(\n\u001b[0;32m--> 146\u001b[0;31m                 await self._channel.send(\n\u001b[0m\u001b[1;32m    147\u001b[0m                     \u001b[0;34m\"goto\"\u001b[0m\u001b[0;34m,\u001b[0m \u001b[0mself\u001b[0m\u001b[0;34m.\u001b[0m\u001b[0m_navigation_timeout\u001b[0m\u001b[0;34m,\u001b[0m \u001b[0mlocals_to_params\u001b[0m\u001b[0;34m(\u001b[0m\u001b[0mlocals\u001b[0m\u001b[0;34m(\u001b[0m\u001b[0;34m)\u001b[0m\u001b[0;34m)\u001b[0m\u001b[0;34m\u001b[0m\u001b[0;34m\u001b[0m\u001b[0m\n\u001b[1;32m    148\u001b[0m                 )\n",
            "\u001b[0;32m/usr/local/lib/python3.11/dist-packages/playwright/_impl/_connection.py\u001b[0m in \u001b[0;36msend\u001b[0;34m(self, method, timeout_calculator, params, is_internal, title)\u001b[0m\n\u001b[1;32m     67\u001b[0m         \u001b[0mtitle\u001b[0m\u001b[0;34m:\u001b[0m \u001b[0mstr\u001b[0m \u001b[0;34m=\u001b[0m \u001b[0;32mNone\u001b[0m\u001b[0;34m,\u001b[0m\u001b[0;34m\u001b[0m\u001b[0;34m\u001b[0m\u001b[0m\n\u001b[1;32m     68\u001b[0m     ) -> Any:\n\u001b[0;32m---> 69\u001b[0;31m         return await self._connection.wrap_api_call(\n\u001b[0m\u001b[1;32m     70\u001b[0m             \u001b[0;32mlambda\u001b[0m\u001b[0;34m:\u001b[0m \u001b[0mself\u001b[0m\u001b[0;34m.\u001b[0m\u001b[0m_inner_send\u001b[0m\u001b[0;34m(\u001b[0m\u001b[0mmethod\u001b[0m\u001b[0;34m,\u001b[0m \u001b[0mtimeout_calculator\u001b[0m\u001b[0;34m,\u001b[0m \u001b[0mparams\u001b[0m\u001b[0;34m,\u001b[0m \u001b[0;32mFalse\u001b[0m\u001b[0;34m)\u001b[0m\u001b[0;34m,\u001b[0m\u001b[0;34m\u001b[0m\u001b[0;34m\u001b[0m\u001b[0m\n\u001b[1;32m     71\u001b[0m             \u001b[0mis_internal\u001b[0m\u001b[0;34m,\u001b[0m\u001b[0;34m\u001b[0m\u001b[0;34m\u001b[0m\u001b[0m\n",
            "\u001b[0;32m/usr/local/lib/python3.11/dist-packages/playwright/_impl/_connection.py\u001b[0m in \u001b[0;36mwrap_api_call\u001b[0;34m(self, cb, is_internal, title)\u001b[0m\n\u001b[1;32m    556\u001b[0m             \u001b[0;32mreturn\u001b[0m \u001b[0;32mawait\u001b[0m \u001b[0mcb\u001b[0m\u001b[0;34m(\u001b[0m\u001b[0;34m)\u001b[0m\u001b[0;34m\u001b[0m\u001b[0;34m\u001b[0m\u001b[0m\n\u001b[1;32m    557\u001b[0m         \u001b[0;32mexcept\u001b[0m \u001b[0mException\u001b[0m \u001b[0;32mas\u001b[0m \u001b[0merror\u001b[0m\u001b[0;34m:\u001b[0m\u001b[0;34m\u001b[0m\u001b[0;34m\u001b[0m\u001b[0m\n\u001b[0;32m--> 558\u001b[0;31m             \u001b[0;32mraise\u001b[0m \u001b[0mrewrite_error\u001b[0m\u001b[0;34m(\u001b[0m\u001b[0merror\u001b[0m\u001b[0;34m,\u001b[0m \u001b[0;34mf\"{parsed_st['apiName']}: {error}\"\u001b[0m\u001b[0;34m)\u001b[0m \u001b[0;32mfrom\u001b[0m \u001b[0;32mNone\u001b[0m\u001b[0;34m\u001b[0m\u001b[0;34m\u001b[0m\u001b[0m\n\u001b[0m\u001b[1;32m    559\u001b[0m         \u001b[0;32mfinally\u001b[0m\u001b[0;34m:\u001b[0m\u001b[0;34m\u001b[0m\u001b[0;34m\u001b[0m\u001b[0m\n\u001b[1;32m    560\u001b[0m             \u001b[0mself\u001b[0m\u001b[0;34m.\u001b[0m\u001b[0m_api_zone\u001b[0m\u001b[0;34m.\u001b[0m\u001b[0mset\u001b[0m\u001b[0;34m(\u001b[0m\u001b[0;32mNone\u001b[0m\u001b[0;34m)\u001b[0m\u001b[0;34m\u001b[0m\u001b[0;34m\u001b[0m\u001b[0m\n",
            "\u001b[0;31mTimeoutError\u001b[0m: Page.goto: Timeout 30000ms exceeded.\nCall log:\n  - navigating to \"https://websempre.rio.rj.gov.br/dados/pluviometricos/plv/\", waiting until \"load\"\n"
          ]
        }
      ]
    },
    {
      "cell_type": "markdown",
      "source": [
        "### **Coletando dados da La Niña e El Niño**\n",
        "Vimos também que vamos precisar acessar informações sobre a incidência de La Niña e El Niño, que são fenômenos climáticos bem presentes em nosso clima.\n",
        "### Extraímos esses dados através do site do National Ocenic and Atmospheric Administration ou NOAA dos Estados Unidos que provê um arquivo tabular em formato texto aqui https://www.cpc.ncep.noaa.gov/data/indices/oni.ascii.txt"
      ],
      "metadata": {
        "id": "wJ4Rp3-Ab-ri"
      }
    },
    {
      "cell_type": "markdown",
      "source": [
        "#### Nesse caso, podemos colocar os dados brutos diretamente dentro de um dataset e mostrar os dados na seção de ***Análise dos dados***"
      ],
      "metadata": {
        "id": "LnlKQHFdcpiQ"
      }
    },
    {
      "cell_type": "code",
      "source": [
        "df_enos = pd.read_csv(\n",
        "    '/content/drive/MyDrive/Datasets/alertario/datasets/oni.ascii.txt',\n",
        "    sep=r'\\s+',\n",
        "    comment='#',\n",
        "    header=0,\n",
        "    names=['periodo', 'ano', 'temp_superficie_oceano', 'anomalia']\n",
        ")"
      ],
      "metadata": {
        "id": "wghoKNzQc8me"
      },
      "execution_count": null,
      "outputs": []
    },
    {
      "cell_type": "markdown",
      "source": [
        "## **Análise dos dados**"
      ],
      "metadata": {
        "id": "nrN8l7gWap79"
      }
    },
    {
      "cell_type": "markdown",
      "source": [
        "### Funções utilitárias para a seção.\n",
        "### Aqui criamos as funções que vamos utilizar para toda a seção de Análise de Dados"
      ],
      "metadata": {
        "id": "qcNZV1fCkxO2"
      }
    },
    {
      "cell_type": "code",
      "source": [
        "def inferir_colspecs_e_nomes_fwf_txt(\n",
        "    txt_file_content: IO[str],\n",
        "    linha_header: int = 4,\n",
        "    linha_dados: int = 5,\n",
        "    n_linhas_amostra: int = 50,\n",
        "    encoding: str = \"latin1\",\n",
        "    debug: bool = False\n",
        "):\n",
        "  \"\"\"\n",
        "  Lê um arquivo .txt, pula as linhas de cabeçalho, infere colspecs e nomes.\n",
        "    Retorna:\n",
        "      - colspecs: lista de (start, end)\n",
        "      - nomes: lista de nomes das colunas, extraídos da linha de cabeçalho\n",
        "  \"\"\"\n",
        "  linhas = []\n",
        "    # Pula até a linha do header\n",
        "  for _ in range(linha_header):\n",
        "    next(txt_file_content, None)\n",
        "  header_line = next(txt_file_content).rstrip(\"\\n\")\n",
        "  # Pula linhas até a linha de dados\n",
        "  for _ in range(linha_dados - linha_header - 1):\n",
        "    next(txt_file_content, None)\n",
        "  # Lê amostra de linhas de dados\n",
        "  for _ in range(n_linhas_amostra):\n",
        "    linha = txt_file_content.readline()\n",
        "    if not linha:\n",
        "      break\n",
        "    linhas.append(linha.rstrip(\"\\n\"))\n",
        "\n",
        "  if not linhas:\n",
        "    raise ValueError(\"Nenhuma linha encontrada para inferência\")\n",
        "\n",
        "  largura_max = max(len(l) for l in linhas + [header_line])\n",
        "  todas = [header_line] + linhas\n",
        "  matriz = np.zeros((len(todas), largura_max), dtype=bool)\n",
        "\n",
        "  for i, l in enumerate(todas):\n",
        "    texto = l.ljust(largura_max)\n",
        "    matriz[i, :] = [(ch != \" \") for ch in texto]\n",
        "\n",
        "  col_nao_vazia = matriz.any(axis=0)\n",
        "  colspecs = []\n",
        "  em_bloco = False\n",
        "  conta_espacos = 0\n",
        "  for idx, tem_valor in enumerate(col_nao_vazia):\n",
        "    if tem_valor:\n",
        "      if not em_bloco:\n",
        "        inicio = idx\n",
        "        em_bloco = True\n",
        "      conta_espacos = 0\n",
        "    else:\n",
        "      if em_bloco:\n",
        "        conta_espacos += 1\n",
        "        if conta_espacos >= 2:\n",
        "          fim = idx - (conta_espacos - 1)\n",
        "          colspecs.append((inicio, fim))\n",
        "          em_bloco = False\n",
        "          conta_espacos = 0\n",
        "  if em_bloco:\n",
        "    colspecs.append((inicio, largura_max))\n",
        "\n",
        "  nomes = [header_line[start:end].strip() for start, end in colspecs]\n",
        "  if debug:\n",
        "    print(\"Header => \", repr(header_line))\n",
        "    print(\"Colspecs => \", colspecs)\n",
        "    print(\"Nomes => \", nomes)\n",
        "  return colspecs, nomes"
      ],
      "metadata": {
        "id": "DU6VTUMWgRta"
      },
      "execution_count": null,
      "outputs": []
    },
    {
      "cell_type": "code",
      "source": [
        "def convert_arquivo_txt_para_dataframe(zip_path: str, nome_arquivo_txt: str):\n",
        "  with zipfile.ZipFile(zip_path, \"r\") as zip_ref:\n",
        "    try:\n",
        "      match_arquivo_nome = re.match(r'(.+?)_(\\d{6})_(Plv|Met)\\.txt$', nome_arquivo, re.IGNORECASE)\n",
        "      estacao = match_arquivo_nome.group(1).lower()\n",
        "      ano = int(match_arquivo_nome.group(2)[:4])\n",
        "      mes = int(match_arquivo_nome.group(2) [4:6])\n",
        "      tipo = match_arquivo_nome.group(3).lower()\n",
        "      with zip_ref.open(nome_arquivo) as f:\n",
        "        conteudo_arquivo = f.read().decode('utf-8')\n",
        "        if tipo == \"plv\":\n",
        "          colspecs, nomes = inferir_colspecs_e_nomes_fwf_txt(io.StringIO(conteudo_arquivo),linha_header=4,linha_dados=5,n_linhas_amostra=100)\n",
        "          if len(nomes) > 8:\n",
        "            return pd.read_fwf(io.StringIO(conteudo_arquivo), colspecs=colspecs, names=nomes, skiprows=5, dtype=str, encoding=\"latin1\")\n",
        "        elif tipo == \"met\":\n",
        "          colspecs, nomes = inferir_colspecs_e_nomes_fwf_txt(io.StringIO(conteudo_arquivo),linha_header=4,linha_dados=6,n_linhas_amostra=100)\n",
        "          return pd.read_fwf(io.StringIO(conteudo_arquivo), colspecs=colspecs, names=nomes, skiprows=5, dtype=str, encoding=\"latin1\")\n",
        "    except FileNotFoundError:\n",
        "      print(f\"Arquivo zip {zip_path} não encontrado\")"
      ],
      "metadata": {
        "id": "60_yh0m0k6Cl"
      },
      "execution_count": null,
      "outputs": []
    },
    {
      "cell_type": "markdown",
      "source": [
        "### **Análise dos dados Meteorológicos coletados**"
      ],
      "metadata": {
        "id": "k5CjaBvsaxC2"
      }
    },
    {
      "cell_type": "markdown",
      "source": [
        "#### Dentro dos arquivos .zip de arquivos meteorológicos, temos arquivos .txt completamente tabulares, para extrair os dados desses arquivos e mostrar seu conteúdo, precisei criar um algoritmo para calcular a distância entre as colunas e com isso poder converter estes arquivos em um dataset e mostrar as variáveis brutas."
      ],
      "metadata": {
        "id": "xIKrIYy1gAhX"
      }
    },
    {
      "cell_type": "markdown",
      "source": [],
      "metadata": {
        "id": "U0gfw0cHjB2n"
      }
    },
    {
      "cell_type": "code",
      "source": [
        "zip_path = '/content/alertario/zips/met/dados_meteorologicos_2015.zip'\n",
        "nome_arquivo = 'guaratiba_201512_Met.txt'"
      ],
      "metadata": {
        "id": "t1svfdT0jJpl"
      },
      "execution_count": null,
      "outputs": []
    },
    {
      "cell_type": "code",
      "source": [
        "df_txt_met = convert_arquivo_txt_para_dataframe(zip_path, nome_arquivo)"
      ],
      "metadata": {
        "id": "cC_o7YCeiuUW"
      },
      "execution_count": null,
      "outputs": []
    },
    {
      "cell_type": "code",
      "source": [
        "df_txt_met.head(10)"
      ],
      "metadata": {
        "id": "eq4CM7GNlioI"
      },
      "execution_count": null,
      "outputs": []
    },
    {
      "cell_type": "markdown",
      "source": [
        "#### Como temos uma linha 0 contendo dados de explicação que não nos servem, então vamos eliminá-la"
      ],
      "metadata": {
        "id": "hgmFcQbnmCHJ"
      }
    },
    {
      "cell_type": "code",
      "source": [
        "df_txt_met = df_txt_met.drop(index=0)"
      ],
      "metadata": {
        "id": "VwfFlpGRmHEB"
      },
      "execution_count": null,
      "outputs": []
    },
    {
      "cell_type": "code",
      "source": [
        "df_txt_met = df_txt_met.reset_index(drop=True)"
      ],
      "metadata": {
        "id": "ukop5j2rmTWW"
      },
      "execution_count": null,
      "outputs": []
    },
    {
      "cell_type": "markdown",
      "source": [
        "#### Após a eliminação da linha desnecessária, já podemos mostrar um arquivo meterológico de exemplo."
      ],
      "metadata": {
        "id": "dV8kybV0f_MV"
      }
    },
    {
      "cell_type": "code",
      "source": [
        "df_txt_met.head(10)"
      ],
      "metadata": {
        "id": "HHyUbE0BmhXK"
      },
      "execution_count": null,
      "outputs": []
    },
    {
      "cell_type": "markdown",
      "source": [
        "#### Variáveis disponíveis no arquivo bruto"
      ],
      "metadata": {
        "id": "h84eiTc0mmWj"
      }
    },
    {
      "cell_type": "code",
      "source": [
        "df_txt_met.columns"
      ],
      "metadata": {
        "id": "35HatyiEmrQw"
      },
      "execution_count": null,
      "outputs": []
    },
    {
      "cell_type": "markdown",
      "source": [
        "#### Segue a tabela com o nome das variáveis e seus tipos de dados\n",
        "\n",
        "| Nome Coluna           | Unidade            |\n",
        "|--------------------|---------------------|\n",
        "| Dia | Data - DD/MM/YYYY  |\n",
        "| Hora | Hora - HH:MI:SS  |\n",
        "| HBV - Horário de Verão | Texto  |\n",
        "| Chuva | Número Real - mm/h  |\n",
        "| DirVento | Em graus  |\n",
        "| VelVento | Km/h  |\n",
        "| Temperatura | °C  |\n",
        "| Pressão | hPa  |\n",
        "| Umidade | %  |\n"
      ],
      "metadata": {
        "id": "rjhTAfJznOsH"
      }
    },
    {
      "cell_type": "markdown",
      "source": [
        "#### Para responder às perguntas desse projeto, vamos precisar das seguintes variáveis desse arquivo: ***Dia***,***Hora***,***VelVento***,***Temperatura***,***Pressão***,***Umidade***\n",
        "#### **OBS:** É importante observar que nem todos os arquivos metereológicos detém todas as informações que precisamos, vamos precisar verificar e identificar quais as estações que detém todas as variáveis ou precisar fundir arquivos contendo as variáveis que precisamos para criar o dataset.\n",
        "#### **OBS 2:** Não existe temperatura 0.0 no Rio de Janeiro, na etapa de Pré-processamento vamos precisar adicionar os dados estatísticos para identificar os outliers e validar os dados corretamente**"
      ],
      "metadata": {
        "id": "iHXm9a57op2A"
      }
    },
    {
      "cell_type": "markdown",
      "source": [
        "### **Análise dos dados Pluviométricos coletados**"
      ],
      "metadata": {
        "id": "htM4gfAKa45U"
      }
    },
    {
      "cell_type": "code",
      "source": [
        "zip_path = '/content/alertario/zips/plv/dados_pluviometricos_1997.zip'\n",
        "nome_arquivo = 'recreio_199712_Plv.txt'"
      ],
      "metadata": {
        "id": "5wPClkhEkYJW"
      },
      "execution_count": null,
      "outputs": []
    },
    {
      "cell_type": "markdown",
      "source": [
        "### **Análise dos dados sobre o El Niño e La Niña coletados**"
      ],
      "metadata": {
        "id": "lRdUE9koa-gU"
      }
    },
    {
      "cell_type": "markdown",
      "source": [
        "## **Verificar a disponibilidade das variáveis elencadas na Etapa 1.**"
      ],
      "metadata": {
        "id": "ECQ5HDNN261U"
      }
    },
    {
      "cell_type": "markdown",
      "source": [
        "### Aqui, identificar aonde estão as variáveis que vamos extrair para responder as perguntas do problema."
      ],
      "metadata": {
        "id": "oUCA_cRNchaf"
      }
    },
    {
      "cell_type": "markdown",
      "source": [
        "### **Analisar os dados**"
      ],
      "metadata": {
        "id": "_i9p5fOy3_VK"
      }
    },
    {
      "cell_type": "markdown",
      "source": [
        "#### Dizer aqui que encontramos dificuldades com o tamanho dos arquivos extraídos, e usar gráficos para comprovar que todos os dados não poderão ser aproveitados por causa do tamanho final do dataset mesmo convertendo para Parquet"
      ],
      "metadata": {
        "id": "_a7l35E-bBC2"
      }
    },
    {
      "cell_type": "markdown",
      "source": [
        "#### Mostrar aqui com gráficos e dados por que escolhemos uma Estação Alto da Boa Vista para dados Pluviométricos e outra - ou a mesma -  para dados Meteorológicos."
      ],
      "metadata": {
        "id": "SB5FhbTjbYeU"
      }
    },
    {
      "cell_type": "markdown",
      "source": [
        "### **Modelar os datasets para a próxima etapa**"
      ],
      "metadata": {
        "id": "vuZ2jGE835jn"
      }
    },
    {
      "cell_type": "markdown",
      "source": [
        "# **Pré-Processamento**"
      ],
      "metadata": {
        "id": "nIfKrlqffAGp"
      }
    },
    {
      "cell_type": "markdown",
      "source": [
        "## **Remover o inputar os dados faltantes e tratar os dados inconsistentes**"
      ],
      "metadata": {
        "id": "mLztjG9c4Zi4"
      }
    },
    {
      "cell_type": "markdown",
      "source": [
        "### Nos dados Pluviométricos:\n",
        " - Vamos retirar os valores nulos, \"ND\";\n",
        " - Retirar as outras colunas que não sejam Dia, Hora, 1 Hora e 24 Horas"
      ],
      "metadata": {
        "id": "Z_gIh_hfdktg"
      }
    },
    {
      "cell_type": "markdown",
      "source": [
        "## **Corrigir ou amenizar outliers e desbalanceamentos entre classes**"
      ],
      "metadata": {
        "id": "OHPx3FIg4f0-"
      }
    },
    {
      "cell_type": "markdown",
      "source": [
        "## **Selecionar as variáveis e instâncias para compôr os modelos.**"
      ],
      "metadata": {
        "id": "LAEDfDts4mNY"
      }
    },
    {
      "cell_type": "markdown",
      "source": [
        "### Com relação a dados Pluviométricos, vamos usar apenas as variáveis de 1 hora e 24 horas.\n",
        "\n",
        "### Com relação a dados Meteorologicos, Vamos usar as variáveis de Velocidade do Vento, Umidade e Temperatura"
      ],
      "metadata": {
        "id": "1KjleQz0conF"
      }
    },
    {
      "cell_type": "markdown",
      "source": [
        "### Mostrar aqui com gráficos e outras informações porque vamos utilizar a Estação de Medição do Alto da Boa Vista"
      ],
      "metadata": {
        "id": "pJ6fn4aqeHAP"
      }
    },
    {
      "cell_type": "markdown",
      "source": [
        "# **Modelagem e inferência**"
      ],
      "metadata": {
        "id": "QQIe4NKVfFP_"
      }
    },
    {
      "cell_type": "markdown",
      "source": [
        "## **Elencar os modelos possíveis para cada tipo de problema**"
      ],
      "metadata": {
        "id": "Wqh0OVRy_eX8"
      }
    },
    {
      "cell_type": "markdown",
      "source": [
        "## **Estimar os parâmetros que compõem os modelos baseando-se nas instâncias e variáveis pré-processadas**"
      ],
      "metadata": {
        "id": "QnTCm2h9_pIC"
      }
    },
    {
      "cell_type": "markdown",
      "source": [
        "## **Avaliar os resultados**"
      ],
      "metadata": {
        "id": "KCUD87Gr_22I"
      }
    },
    {
      "cell_type": "markdown",
      "source": [
        "# **Pós-processamento**"
      ],
      "metadata": {
        "id": "HX0U8RrJfKjd"
      }
    },
    {
      "cell_type": "markdown",
      "source": [
        "# **Apresentação dos resultados**"
      ],
      "metadata": {
        "id": "j3AYgti4fO6z"
      }
    },
    {
      "cell_type": "markdown",
      "source": [
        "### Análise da pergunta 1."
      ],
      "metadata": {
        "id": "4VnkcoMtefdK"
      }
    },
    {
      "cell_type": "markdown",
      "source": [
        "### Análise da pergunta 2."
      ],
      "metadata": {
        "id": "c5Im5iyAepfz"
      }
    },
    {
      "cell_type": "markdown",
      "source": [
        "### Análise da pergunta 3."
      ],
      "metadata": {
        "id": "2jX5opDTernz"
      }
    },
    {
      "cell_type": "markdown",
      "source": [
        "### Análise da pergunta 4."
      ],
      "metadata": {
        "id": "sqZQc_b7ey7k"
      }
    },
    {
      "cell_type": "markdown",
      "source": [
        "### Análise da pergunta 5."
      ],
      "metadata": {
        "id": "xN4VnBn4e0SF"
      }
    },
    {
      "cell_type": "markdown",
      "source": [
        "### Análise da pergunta 6."
      ],
      "metadata": {
        "id": "l4viKFoLe2V9"
      }
    },
    {
      "cell_type": "markdown",
      "source": [
        "### Análise da pergunta 7."
      ],
      "metadata": {
        "id": "Kqw5L-sfe32H"
      }
    },
    {
      "cell_type": "markdown",
      "source": [
        "### Análise da pergunta 8."
      ],
      "metadata": {
        "id": "BFiIxUZDe50d"
      }
    },
    {
      "cell_type": "markdown",
      "source": [
        "### Análise da pergunta 9."
      ],
      "metadata": {
        "id": "Agrbgb7-e92r"
      }
    },
    {
      "cell_type": "markdown",
      "source": [
        "### Análise da pergunta 10."
      ],
      "metadata": {
        "id": "NTU2OJ-4e-06"
      }
    },
    {
      "cell_type": "markdown",
      "source": [
        "### Análise da pergunta 11."
      ],
      "metadata": {
        "id": "KI2BFoglfAJE"
      }
    },
    {
      "cell_type": "markdown",
      "source": [
        "### Análise da pergunta 12."
      ],
      "metadata": {
        "id": "c-T5QU_9fBSz"
      }
    },
    {
      "cell_type": "markdown",
      "source": [
        "### Análise da pergunta 13."
      ],
      "metadata": {
        "id": "4NmdHAhWfC0r"
      }
    },
    {
      "cell_type": "markdown",
      "source": [
        "### Análise da pergunta 14."
      ],
      "metadata": {
        "id": "f_3ovnsffEdn"
      }
    },
    {
      "cell_type": "markdown",
      "source": [
        "### Análise da pergunta 15."
      ],
      "metadata": {
        "id": "NvRRkA6ufF8x"
      }
    },
    {
      "cell_type": "markdown",
      "source": [
        "### Análise da pergunta 16."
      ],
      "metadata": {
        "id": "0wrV8ueRfJdc"
      }
    },
    {
      "cell_type": "markdown",
      "source": [
        "# **Implantação do modelo e geração de valor**"
      ],
      "metadata": {
        "id": "PsgyfK07fdwt"
      }
    },
    {
      "cell_type": "markdown",
      "source": [],
      "metadata": {
        "id": "eL44aUJFB6G1"
      }
    }
  ]
}